{
 "cells": [
  {
   "cell_type": "code",
   "execution_count": 1,
   "metadata": {
    "collapsed": true
   },
   "outputs": [],
   "source": [
    "import numpy as np\n",
    "import matplotlib.pyplot as plt\n",
    "import mesa_reader as mr"
   ]
  },
  {
   "cell_type": "code",
   "execution_count": 2,
   "metadata": {
    "collapsed": true
   },
   "outputs": [],
   "source": [
    "%matplotlib inline"
   ]
  },
  {
   "cell_type": "code",
   "execution_count": 3,
   "metadata": {
    "collapsed": false
   },
   "outputs": [],
   "source": [
    "data = np.loadtxt('10XC068_1_50mode.txt')\n",
    "p = mr.MesaData('10/LOGS/profile2.data')\n",
    "R_star = p.header_data['photosphere_r']*6.955e10 # cm\n",
    "M_star = p.header_data['star_mass']*1.988e33 # grams\n",
    "G = 6.674e-8 # cgs"
   ]
  },
  {
   "cell_type": "code",
   "execution_count": 4,
   "metadata": {
    "collapsed": true
   },
   "outputs": [],
   "source": [
    "# data order:\n",
    "# data[:,0] index\n",
    "# data[:,1] ell\n",
    "# data[:,2] n_p\n",
    "# data[:,3] n_g\n",
    "# data[:,4] eta; -1 means no driving\n",
    "# data[:,5] Re(omega) in dynamical frequency\n",
    "# data[:,6] Im(omega)\n",
    "# data[:,7] Re(freq) in microHz\n",
    "# data[:,8] Im(freq) in microHz\n",
    "# data[:,9] reference position (1)\n",
    "# data[:,10] Re(xi_r(ref))\n",
    "# data[:,11] Im(xi_r(ref))\n",
    "# data[:,12] Re(xi_h(ref)) NOTE: xi_h is not the horizontal component of xi\n",
    "# data[:,13] Im(xi_h(ref))\n",
    "# data[:,14] H = mode energy in G M_star^2/R_star"
   ]
  },
  {
   "cell_type": "code",
   "execution_count": 5,
   "metadata": {
    "collapsed": false
   },
   "outputs": [],
   "source": [
    "ell = data[:,1]\n",
    "data_ell1 = data[ell==1,:]"
   ]
  },
  {
   "cell_type": "code",
   "execution_count": 6,
   "metadata": {
    "collapsed": true
   },
   "outputs": [],
   "source": [
    "def reorder(data):\n",
    "    freq = data[:,7]\n",
    "    freq_order = np.argsort(freq)\n",
    "    data = data[freq_order,:]\n",
    "    return data"
   ]
  },
  {
   "cell_type": "code",
   "execution_count": 7,
   "metadata": {
    "collapsed": false
   },
   "outputs": [],
   "source": [
    "data_ell1 = reorder(data_ell1)"
   ]
  },
  {
   "cell_type": "code",
   "execution_count": 8,
   "metadata": {
    "collapsed": false
   },
   "outputs": [],
   "source": [
    "# ell = 1\n",
    "ell = 1\n",
    "Lambda = np.sqrt(ell*(ell+1))\n",
    "freq = 1e-6*data_ell1[:,7]\n",
    "gamma = 1e-6*data_ell1[:,8]"
   ]
  },
  {
   "cell_type": "code",
   "execution_count": 9,
   "metadata": {
    "collapsed": false
   },
   "outputs": [],
   "source": [
    "# read in mesa data\n",
    "sigma = 5.6704e-5\n",
    "T = p.temperature[::-1]\n",
    "rho = 10**p.logRho[::-1]\n",
    "kappa = 10**p.log_opacity[::-1]\n",
    "c_v = 3/2*8.314e7\n",
    "Krad = (16*sigma*T**3/(3*rho**2*kappa*c_v))\n",
    "r = p.radius[::-1]*6.955e10\n",
    "dlogKrad_dr = np.gradient(Krad*rho,r)/(Krad*rho)\n",
    "N = 10**(p.bulk_data['log_brunt_N'][::-1])\n",
    "cs = p.bulk_data['csound'][::-1]"
   ]
  },
  {
   "cell_type": "code",
   "execution_count": 10,
   "metadata": {
    "collapsed": false
   },
   "outputs": [],
   "source": [
    "dr = np.gradient(r)\n",
    "\n",
    "om_list = freq*(2*np.pi)\n",
    "lamb = Lambda*cs/r"
   ]
  },
  {
   "cell_type": "code",
   "execution_count": 11,
   "metadata": {
    "collapsed": true
   },
   "outputs": [],
   "source": [
    "r_len = len(r)\n",
    "def upper_boundary(boolean):\n",
    "    return int(r_len/2) + np.argmax(boolean[int(r_len/2):])"
   ]
  },
  {
   "cell_type": "code",
   "execution_count": 12,
   "metadata": {
    "collapsed": false
   },
   "outputs": [],
   "source": [
    "i_RCB = np.argmax(N>1e-25)\n",
    "i_CB = upper_boundary(N<1e-30)\n",
    "i_turning = np.argmax(om_list[:,None]>lamb[None,:],axis=1)\n",
    "i_turning[i_CB<i_turning] = i_CB\n",
    "i_turning[i_turning==0] = i_CB"
   ]
  },
  {
   "cell_type": "code",
   "execution_count": 13,
   "metadata": {
    "collapsed": false
   },
   "outputs": [
    {
     "data": {
      "text/plain": [
       "[<matplotlib.lines.Line2D at 0x10ece2208>]"
      ]
     },
     "execution_count": 13,
     "metadata": {},
     "output_type": "execute_result"
    },
    {
     "data": {
      "image/png": "[encoded data removed]",
      "text/plain": [
       "<matplotlib.figure.Figure at 0x10e0c5748>"
      ]
     },
     "metadata": {},
     "output_type": "display_data"
    }
   ],
   "source": [
    "plt.semilogy(r,np.abs(dlogKrad_dr))\n",
    "plt.semilogy(r,0*r+10/r)"
   ]
  },
  {
   "cell_type": "code",
   "execution_count": 14,
   "metadata": {
    "collapsed": false
   },
   "outputs": [],
   "source": [
    "travel_time_list = []\n",
    "tau_turning1 = []\n",
    "tau_turning2 = []\n",
    "for j,om in enumerate(om_list):\n",
    "    kr = Lambda/r*N/om\n",
    "    vg = om/kr\n",
    "    gamma_real1 = (kr**2 - kr*dlogKrad_dr)*Krad\n",
    "    gamma_real2 = kr**2*Krad\n",
    "    tau1 = np.zeros(len(r))\n",
    "    tau2 = np.zeros(len(r))\n",
    "    travel_time = np.zeros(len(r))\n",
    "    for i in range(i_turning[j]-1):\n",
    "        tau1[i+1] = tau1[i] + gamma_real1[i]/vg[i]*dr[i]\n",
    "        tau2[i+1] = tau2[i] + gamma_real2[i]/vg[i]*dr[i]\n",
    "        travel_time[i+1] = travel_time[i] + dr[i]/vg[i]\n",
    "    travel_time_list.append(travel_time[i_turning[j]-1])\n",
    "    tau_turning1.append(tau1[i_turning[j]-1])\n",
    "    tau_turning2.append(tau2[i_turning[j]-1])\n",
    "travel_time = np.array(travel_time_list)\n",
    "tau_turning1 = np.array(tau_turning1)\n",
    "tau_turning2 = np.array(tau_turning2)\n",
    "gamma_WKB1 = tau_turning1/travel_time\n",
    "gamma_WKB2 = tau_turning2/travel_time"
   ]
  },
  {
   "cell_type": "code",
   "execution_count": 15,
   "metadata": {
    "collapsed": false
   },
   "outputs": [
    {
     "data": {
      "image/png": "[encoded data removed]",
      "text/plain": [
       "<matplotlib.figure.Figure at 0x10edd5da0>"
      ]
     },
     "metadata": {},
     "output_type": "display_data"
    }
   ],
   "source": [
    "plt.loglog(freq,np.abs(gamma_WKB1/(2*np.pi)),label='WKB damping rate log')\n",
    "plt.loglog(freq,np.abs(gamma_WKB2/(2*np.pi)),label='WKB damping rate')\n",
    "plt.loglog(freq,np.abs(gamma),label='gyre damping rate')\n",
    "plt.loglog(freq,freq,label='oscillation frequency')\n",
    "plt.ylim([1e-13,1e-5])\n",
    "plt.ylabel(r'damping rate (Hz)')\n",
    "plt.xlabel(r'frequency (Hz)')\n",
    "plt.legend(loc='upper right')\n",
    "plt.savefig(\"damping_rates.png\",dpi=300)"
   ]
  },
  {
   "cell_type": "code",
   "execution_count": null,
   "metadata": {
    "collapsed": true
   },
   "outputs": [],
   "source": []
  }
 ],
 "metadata": {
  "kernelspec": {
   "display_name": "Python 3",
   "language": "python",
   "name": "python3"
  },
  "language_info": {
   "codemirror_mode": {
    "name": "ipython",
    "version": 3
   },
   "file_extension": ".py",
   "mimetype": "text/x-python",
   "name": "python",
   "nbconvert_exporter": "python",
   "pygments_lexer": "ipython3",
   "version": "3.5.1"
  }
 },
 "nbformat": 4,
 "nbformat_minor": 0
}
